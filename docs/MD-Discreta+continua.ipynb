{
 "cells": [
  {
   "cell_type": "markdown",
   "metadata": {},
   "source": [
    "# Distribuciones mixtas - discreta + continua\n",
    "***\n",
    "\n",
    "_Autor:_    __Jesús Casado__ <br> _Revisión:_ __09/03/2020__ <br>\n",
    "\n",
    "__Introducción__<br>\n",
    "\n",
    "\n",
    "__Cosas que arreglar__ <br>\n",
    "\n",
    "\n",
    "__Índice__ <br>\n",
    "\n",
    "__[Cargar datos](#Cargar-datos)__ <br>\n",
    "\n",
    "__[Serie de máximos anuales](#Serie-de-máximos-anuales)__ <br>\n",
    "\n",
    "__[Peak over threshold](#Peak-over-threshold)__<br>\n",
    "[Selección de eventos](#Selección-de-eventos)<br>"
   ]
  },
  {
   "cell_type": "code",
   "execution_count": 1,
   "metadata": {},
   "outputs": [],
   "source": [
    "import numpy as np\n",
    "import pandas as pd\n",
    "import matplotlib.pyplot as plt\n",
    "%matplotlib inline\n",
    "import seaborn as sns; sns.set()\n",
    "\n",
    "import pomegranate as pg\n",
    "\n",
    "import os\n",
    "rutaBase = os.getcwd().replace('\\\\', '/') + '/'"
   ]
  },
  {
   "cell_type": "code",
   "execution_count": 2,
   "metadata": {},
   "outputs": [],
   "source": [
    "from scipy import stats"
   ]
  },
  {
   "cell_type": "code",
   "execution_count": 3,
   "metadata": {},
   "outputs": [],
   "source": [
    "from fitter import Fitter"
   ]
  },
  {
   "cell_type": "code",
   "execution_count": 4,
   "metadata": {},
   "outputs": [],
   "source": [
    "%run POT_funciones.ipynb"
   ]
  },
  {
   "cell_type": "code",
   "execution_count": 13,
   "metadata": {},
   "outputs": [],
   "source": [
    "class mixedDistributionDC:\n",
    "    \"\"\"Distribución mixta para variables siempre positivas (x >= 0) en la que se descompone en\n",
    "    dos distribuciones, una discreta que modela la probabilidad de que la variable sea 0, y una\n",
    "    continua que modela la magnitud de la variable en caso de ser mayor que 0.\n",
    "    \"\"\"\n",
    "    \n",
    "    def __init__(self, data):\n",
    "        \"\"\"\n",
    "        Parámetro:\n",
    "        ----------\n",
    "        data:    array(n,). Valores de la variable de estudio\n",
    "        \n",
    "        Salida:\n",
    "        -------\n",
    "        Po:    float. Probabilidad de que la variable positiva tome el valor 0\n",
    "        \"\"\"\n",
    "        \n",
    "        self.data = data\n",
    "        # probabilidad de 0\n",
    "        self.Po = np.sum(data == 0) / len(data)\n",
    "        \n",
    "    def fit(self, distrs, crit):\n",
    "        \"\"\"Ajusta la función de distribución más apropiada a los datos en base al criterio definido\n",
    "        \n",
    "        Parámetros:\n",
    "        -----------\n",
    "        distrs:    list of strings. Lista con el nombre de SciPy de las distribuciones a ajustar\n",
    "        crit:      string. Criterio en función del que seleccionar la mejor distribución: 'sumsquare_error'; 'aic' criterio de Akaike; 'bic', criteiro bayesiano\n",
    "        \n",
    "        Salidas:\n",
    "        --------\n",
    "        distr:      callable. Función de distribución de SciPy que mejor se ajusta a los datos\n",
    "        fitResults: data frame. Tabla con los resultados de la bondad del ajuste para cada distribución\n",
    "        pars:       list of floats. Parámetros ajustados para 'distr'\n",
    "        \"\"\"\n",
    "        \n",
    "        # datos con valor positivo\n",
    "        data_ = self.data[self.data > 0]\n",
    "\n",
    "        # buscar distribución con mejor rendimiento\n",
    "        F = Fitter(data_, distributions=distrs, verbose=False)\n",
    "        F.fit()\n",
    "        F.summary()\n",
    "        results = F.summary().sort_values(crit)\n",
    "        self.fitResults = results\n",
    "\n",
    "        # extraer la distribución con menor AIC (criterio de información de Akaike)\n",
    "        distStr = results.index[0]\n",
    "        distr = getattr(stats, distStr)\n",
    "        pars = F.fitted_param[distStr]\n",
    "        self.model = distr(*pars)\n",
    "        \n",
    "    def cdf(self, x):\n",
    "        \"\"\"Función de distribución acumulada\n",
    "                CDFtotal = Po + (1 - Po) * CDFpositivos\n",
    "                \n",
    "        Parámetros:\n",
    "        -----------\n",
    "        x:         array (m). Valores de la variable\n",
    "        \n",
    "        Salida:\n",
    "        -------\n",
    "        cdf:       array (m). Probabilidad de no excedencia asociada a los valores de 'x'\n",
    "        \"\"\"\n",
    "        \n",
    "        # asegurar que 'x' es un array\n",
    "        if isinstance(x, int) | isinstance(x, float):\n",
    "            x = np.array([x]).astype(float)\n",
    "        elif isinstance(x, list):\n",
    "            x = np.array(x).astype(float)\n",
    "\n",
    "        # 'array' donde guardar la probabilidad acumulada\n",
    "        cdf = self.Po + (1 - self.Po) * self.model.cdf(x)\n",
    "        \n",
    "        return cdf\n",
    "    \n",
    "    def pdf(self, x):\n",
    "        \"\"\"\n",
    "        \"\"\"\n",
    "        \n",
    "        # asegurar que 'x' es un array\n",
    "        if isinstance(x, int) | isinstance(x, float):\n",
    "            x = np.array([x]).astype(float)\n",
    "        elif isinstance(x, list):\n",
    "            x = np.array(x).astype(float)\n",
    "            \n",
    "        # calcular la probabilidad de los valores de 'x'\n",
    "        pdf = self.model.pdf(x)\n",
    "        pdf[x == 0] = self.Po\n",
    "\n",
    "        return pdf\n",
    "    \n",
    "    def ppf(self, q):\n",
    "        \"\"\"\n",
    "        \"\"\"\n",
    "        \n",
    "        # asegurar que 'q' es un array\n",
    "        if isinstance(q, int) | isinstance(q, float):\n",
    "            q = np.array([q]).astype(float)\n",
    "        elif isinstance(x, list):\n",
    "            q = np.array(q).astype(float)\n",
    "            \n",
    "        # comprobar que todos los valores de 'q' son correctos\n",
    "        if (any(q < 0)) | (any(q > 1)):\n",
    "            print('ERROR. Valores de \"q\" erróneos.')\n",
    "            \n",
    "        # calcular el cuantil de los valores de 'q'\n",
    "        ppf = np.zeros_like(q)\n",
    "        ppf[q > self.Po] = self.model.ppf((q[q > self.Po] - self.Po) / (1 - self.Po))\n",
    "        \n",
    "        return ppf\n",
    "    \n",
    "        "
   ]
  },
  {
   "cell_type": "markdown",
   "metadata": {},
   "source": [
    "## Cargar datos"
   ]
  },
  {
   "cell_type": "code",
   "execution_count": 14,
   "metadata": {},
   "outputs": [
    {
     "data": {
      "text/html": [
       "<div>\n",
       "<style scoped>\n",
       "    .dataframe tbody tr th:only-of-type {\n",
       "        vertical-align: middle;\n",
       "    }\n",
       "\n",
       "    .dataframe tbody tr th {\n",
       "        vertical-align: top;\n",
       "    }\n",
       "\n",
       "    .dataframe thead th {\n",
       "        text-align: right;\n",
       "    }\n",
       "</style>\n",
       "<table border=\"1\" class=\"dataframe\">\n",
       "  <thead>\n",
       "    <tr style=\"text-align: right;\">\n",
       "      <th></th>\n",
       "      <th>Nivel</th>\n",
       "      <th>Precipitacion</th>\n",
       "    </tr>\n",
       "    <tr>\n",
       "      <th>fecha</th>\n",
       "      <th></th>\n",
       "      <th></th>\n",
       "    </tr>\n",
       "  </thead>\n",
       "  <tbody>\n",
       "    <tr>\n",
       "      <th>1981-01-01</th>\n",
       "      <td>4.40</td>\n",
       "      <td>0.0</td>\n",
       "    </tr>\n",
       "    <tr>\n",
       "      <th>1982-01-01</th>\n",
       "      <td>7.76</td>\n",
       "      <td>0.0</td>\n",
       "    </tr>\n",
       "    <tr>\n",
       "      <th>1983-01-01</th>\n",
       "      <td>9.01</td>\n",
       "      <td>0.0</td>\n",
       "    </tr>\n",
       "    <tr>\n",
       "      <th>1984-01-01</th>\n",
       "      <td>5.55</td>\n",
       "      <td>0.0</td>\n",
       "    </tr>\n",
       "    <tr>\n",
       "      <th>1985-01-01</th>\n",
       "      <td>6.95</td>\n",
       "      <td>0.0</td>\n",
       "    </tr>\n",
       "  </tbody>\n",
       "</table>\n",
       "</div>"
      ],
      "text/plain": [
       "            Nivel  Precipitacion\n",
       "fecha                           \n",
       "1981-01-01   4.40            0.0\n",
       "1982-01-01   7.76            0.0\n",
       "1983-01-01   9.01            0.0\n",
       "1984-01-01   5.55            0.0\n",
       "1985-01-01   6.95            0.0"
      ]
     },
     "execution_count": 14,
     "metadata": {},
     "output_type": "execute_result"
    }
   ],
   "source": [
    "data = pd.read_csv(rutaBase + '../data/Serie_extremos_marginal_P.csv', parse_dates=True,\n",
    "                   index_col=0)\n",
    "data.head()"
   ]
  },
  {
   "cell_type": "code",
   "execution_count": 15,
   "metadata": {},
   "outputs": [],
   "source": [
    "# Extraer serie de precipitación\n",
    "P = data.Precipitacion.values\n",
    "\n",
    "# Serie de días con precipitación\n",
    "P_ = P[P > 0].copy()"
   ]
  },
  {
   "cell_type": "code",
   "execution_count": 16,
   "metadata": {},
   "outputs": [
    {
     "data": {
      "text/html": [
       "<div>\n",
       "<style scoped>\n",
       "    .dataframe tbody tr th:only-of-type {\n",
       "        vertical-align: middle;\n",
       "    }\n",
       "\n",
       "    .dataframe tbody tr th {\n",
       "        vertical-align: top;\n",
       "    }\n",
       "\n",
       "    .dataframe thead th {\n",
       "        text-align: right;\n",
       "    }\n",
       "</style>\n",
       "<table border=\"1\" class=\"dataframe\">\n",
       "  <thead>\n",
       "    <tr style=\"text-align: right;\">\n",
       "      <th></th>\n",
       "      <th>sumsquare_error</th>\n",
       "      <th>aic</th>\n",
       "      <th>bic</th>\n",
       "      <th>kl_div</th>\n",
       "    </tr>\n",
       "  </thead>\n",
       "  <tbody>\n",
       "    <tr>\n",
       "      <th>pearson3</th>\n",
       "      <td>1.321552</td>\n",
       "      <td>852.647067</td>\n",
       "      <td>-8.166751</td>\n",
       "      <td>inf</td>\n",
       "    </tr>\n",
       "    <tr>\n",
       "      <th>gamma</th>\n",
       "      <td>1.319922</td>\n",
       "      <td>889.592314</td>\n",
       "      <td>-8.176627</td>\n",
       "      <td>inf</td>\n",
       "    </tr>\n",
       "    <tr>\n",
       "      <th>genpareto</th>\n",
       "      <td>1.312084</td>\n",
       "      <td>908.328063</td>\n",
       "      <td>-8.224273</td>\n",
       "      <td>inf</td>\n",
       "    </tr>\n",
       "    <tr>\n",
       "      <th>genextreme</th>\n",
       "      <td>1.325848</td>\n",
       "      <td>922.147942</td>\n",
       "      <td>-8.140792</td>\n",
       "      <td>inf</td>\n",
       "    </tr>\n",
       "    <tr>\n",
       "      <th>beta</th>\n",
       "      <td>1.318998</td>\n",
       "      <td>1111.056430</td>\n",
       "      <td>-6.102787</td>\n",
       "      <td>inf</td>\n",
       "    </tr>\n",
       "  </tbody>\n",
       "</table>\n",
       "</div>"
      ],
      "text/plain": [
       "            sumsquare_error          aic       bic  kl_div\n",
       "pearson3           1.321552   852.647067 -8.166751     inf\n",
       "gamma              1.319922   889.592314 -8.176627     inf\n",
       "genpareto          1.312084   908.328063 -8.224273     inf\n",
       "genextreme         1.325848   922.147942 -8.140792     inf\n",
       "beta               1.318998  1111.056430 -6.102787     inf"
      ]
     },
     "execution_count": 16,
     "metadata": {},
     "output_type": "execute_result"
    },
    {
     "data": {
      "image/png": "[encoded data removed]",
      "text/plain": [
       "<Figure size 432x288 with 1 Axes>"
      ]
     },
     "metadata": {},
     "output_type": "display_data"
    }
   ],
   "source": [
    "# declarar la distribución mixta\n",
    "mdP = mixedDistributionDC(P)\n",
    "\n",
    "# ajustar la distribución continua\n",
    "distribuciones = ['beta', 'expon', 'weibull_min', 'gamma', 'genextreme', 'genpareto',\n",
    "                  'gumbel_r', 'norm', 'weibull_max', 'pearson3']\n",
    "mdP.fit(distribuciones, 'aic')\n",
    "mdP.fitResults"
   ]
  },
  {
   "cell_type": "code",
   "execution_count": 17,
   "metadata": {},
   "outputs": [],
   "source": [
    "# calcular la cdf\n",
    "Pmax = np.ceil(data.Precipitacion.max() / 10) * 10\n",
    "x = np.concatenate(([0], np.linspace(1e-10, Pmax)))\n",
    "cdf = mdP.cdf(x)\n",
    "\n",
    "# calcular la pdf\n",
    "pdf = mdP.pdf(x)"
   ]
  },
  {
   "cell_type": "code",
   "execution_count": 18,
   "metadata": {},
   "outputs": [],
   "source": [
    "# distribución empírica\n",
    "ecdfP_ = ECDF(P_)\n",
    "ecdfs = mdP.Po + (1 - mdP.Po) * ecdfP_(P_)"
   ]
  },
  {
   "cell_type": "code",
   "execution_count": 19,
   "metadata": {},
   "outputs": [],
   "source": [
    "# ppf\n",
    "q_ = np.linspace(0, 1, 1000)\n",
    "x_ = mdP.ppf(q_)"
   ]
  },
  {
   "cell_type": "code",
   "execution_count": 23,
   "metadata": {},
   "outputs": [
    {
     "data": {
      "image/png": "[encoded data removed]",
      "text/plain": [
       "<Figure size 720x324 with 2 Axes>"
      ]
     },
     "metadata": {},
     "output_type": "display_data"
    }
   ],
   "source": [
    "fig, ax = plt.subplots(ncols=2, figsize=(10, 4.5))\n",
    "\n",
    "ax[0].scatter(x[0], pdf[0], s=8, label='analítico')\n",
    "ax[0].plot(x[1:], pdf[1:], label='analítico')\n",
    "ax[0].set(ylabel='PDF')\n",
    "\n",
    "ax[1].plot(x, cdf, label='analítico')\n",
    "ax[1].plot(x_, q_, label='ppf', ls=':')\n",
    "ax[1].scatter(P_, ecdfs, s=2, c='k', label='empírico')\n",
    "ax[1].set(ylabel='CDF')\n",
    "ax[1].legend();"
   ]
  }
 ],
 "metadata": {
  "kernelspec": {
   "display_name": "Python 3",
   "language": "python",
   "name": "python3"
  },
  "language_info": {
   "codemirror_mode": {
    "name": "ipython",
    "version": 3
   },
   "file_extension": ".py",
   "mimetype": "text/x-python",
   "name": "python",
   "nbconvert_exporter": "python",
   "pygments_lexer": "ipython3",
   "version": "3.7.7"
  }
 },
 "nbformat": 4,
 "nbformat_minor": 4
}
